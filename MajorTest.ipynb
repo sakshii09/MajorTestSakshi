{
 "cells": [
  {
   "cell_type": "code",
   "execution_count": 1,
   "id": "1876d65e",
   "metadata": {},
   "outputs": [
    {
     "name": "stdout",
     "output_type": "stream",
     "text": [
      "Enter space seperated list of words : sakshi is hi\n",
      "Enter number of guesses : 3\n",
      "Guesses remaining :  3\n",
      "__\n",
      "Enter your guess : cef\n",
      "Wrong Guess\n",
      "Guesses remaining :  2\n",
      "__\n",
      "Enter your guess : d\n",
      "Wrong Guess\n",
      "Guesses remaining :  1\n",
      "__\n",
      "Enter your guess : vd\n",
      "Wrong Guess\n",
      "OUT OF GUESSES\n",
      "ANSWER :  is\n"
     ]
    }
   ],
   "source": [
    "from random import randint\n",
    "l=input(\"Enter space seperated list of words : \").split()\n",
    "n=int(input(\"Enter number of guesses : \"))\n",
    "g=0\n",
    "w = l[randint(0,len(l)-1)]\n",
    "word=[[x,False] for x in w]\n",
    "while(g<n):\n",
    "    print(\"Guesses remaining : \",n-g)\n",
    "    for x in word:\n",
    "        if x[1]:\n",
    "            print(x[0],end=\"\")\n",
    "        else:\n",
    "            print(end=\"_\")\n",
    "    print()\n",
    "    s=input(\"Enter your guess : \")\n",
    "    r=False\n",
    "    f=True\n",
    "    for i in range(len(word)):\n",
    "        if word[i][0]==s:\n",
    "            if word[i][1]==False:\n",
    "                word[i][1]=True\n",
    "                f=False\n",
    "            else:\n",
    "                r=True\n",
    "                break\n",
    "    if f:\n",
    "        print(\"Wrong Guess\")\n",
    "        g+=1\n",
    "    else:\n",
    "        print(\"Correct Guess\")\n",
    "        g+=1\n",
    "    if r:\n",
    "        print(\"Already Entered, guess again\")\n",
    "    for x in word:\n",
    "        if not x[1]:\n",
    "            break\n",
    "    else:\n",
    "        print(\"You have guessed the word\")\n",
    "        break\n",
    "else:\n",
    "    print(\"OUT OF GUESSES\")\n",
    "print(\"ANSWER : \",w)"
   ]
  },
  {
   "cell_type": "code",
   "execution_count": 2,
   "id": "d1ecdd4b",
   "metadata": {},
   "outputs": [
    {
     "name": "stdout",
     "output_type": "stream",
     "text": [
      "Enter a number : 34\n",
      "4 3\n"
     ]
    }
   ],
   "source": [
    "N=int(input(\"Enter a number : \"))\n",
    "e=0\n",
    "o=0\n",
    "while N>0:\n",
    "    d=N%10\n",
    "    N=N//10\n",
    "    if d%2==0:\n",
    "        e+=d\n",
    "    else:\n",
    "        o+=d\n",
    "print(e,o)"
   ]
  },
  {
   "cell_type": "code",
   "execution_count": null,
   "id": "1a7108b8",
   "metadata": {},
   "outputs": [],
   "source": [
    "n=int(input(\"Enter number of elements : \"))\n",
    "l=list(map(int,input(\"Enter the elements : \").split()))\n",
    "for i in range(n-1):\n",
    "    if l[i+1]!=(l[i]+1):\n",
    "        print(\"Smallest positive missing natural number is\",l[i]+1)\n",
    "        break\n",
    "else:\n",
    "    print(\"Smallest positive missing natural number is\",l[-1]+1)"
   ]
  },
  {
   "cell_type": "markdown",
   "id": "b64044f6",
   "metadata": {},
   "source": []
  }
 ],
 "metadata": {
  "kernelspec": {
   "display_name": "Python 3",
   "language": "python",
   "name": "python3"
  },
  "language_info": {
   "codemirror_mode": {
    "name": "ipython",
    "version": 3
   },
   "file_extension": ".py",
   "mimetype": "text/x-python",
   "name": "python",
   "nbconvert_exporter": "python",
   "pygments_lexer": "ipython3",
   "version": "3.8.8"
  }
 },
 "nbformat": 4,
 "nbformat_minor": 5
}
